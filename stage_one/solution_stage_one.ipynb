{
 "cells": [
  {
   "cell_type": "code",
   "execution_count": 1,
   "id": "eebf321c-e244-4252-8e81-aafdc1ba9d81",
   "metadata": {},
   "outputs": [],
   "source": [
    "import warnings\n",
    "warnings.filterwarnings(\"ignore\")\n",
    "\n",
    "import numpy as np\n",
    "import pandas as pd\n",
    "\n",
    "from sklearn.model_selection import train_test_split\n",
    "from sklearn.metrics import f1_score, roc_auc_score, recall_score, accuracy_score\n",
    "from sklearn.linear_model import LogisticRegression\n",
    "from sklearn.model_selection import GridSearchCV\n",
    "from sklearn.preprocessing import StandardScaler\n",
    "\n",
    "from imblearn.over_sampling import RandomOverSampler\n",
    "\n",
    "from scipy import stats\n",
    "\n",
    "from catboost import CatBoostClassifier, Pool\n",
    "\n",
    "%matplotlib inline\n",
    "import seaborn as sns\n",
    "from matplotlib import pyplot as plt"
   ]
  },
  {
   "cell_type": "markdown",
   "id": "e105314f-d516-4cf4-95e5-7096e6ceee7f",
   "metadata": {},
   "source": [
    "# Downloading data"
   ]
  },
  {
   "cell_type": "code",
   "execution_count": 2,
   "id": "311c6608-11f2-4efa-abc2-ad90c2757c3d",
   "metadata": {},
   "outputs": [],
   "source": [
    "data_train = pd.read_csv('data_train_preprocessed.csv').drop('Unnamed: 0', axis=1)\n",
    "data_test = pd.read_csv('data_test_preprocessed.csv').drop('Unnamed: 0', axis=1)\n",
    "sample_submission = pd.read_csv('content/sample_submission.csv')"
   ]
  },
  {
   "cell_type": "code",
   "execution_count": 3,
   "id": "18259a31-e419-49c5-9dc4-dd74e5d60130",
   "metadata": {},
   "outputs": [],
   "source": [
    "dirt_data_train = pd.read_csv('content/train.csv')\n",
    "dirt_data_test = pd.read_csv('content/test.csv')"
   ]
  },
  {
   "cell_type": "code",
   "execution_count": 4,
   "id": "c67af416-a9c1-4a3b-be58-db8a6e692cdb",
   "metadata": {},
   "outputs": [
    {
     "data": {
      "text/html": [
       "<div>\n",
       "<style scoped>\n",
       "    .dataframe tbody tr th:only-of-type {\n",
       "        vertical-align: middle;\n",
       "    }\n",
       "\n",
       "    .dataframe tbody tr th {\n",
       "        vertical-align: top;\n",
       "    }\n",
       "\n",
       "    .dataframe thead th {\n",
       "        text-align: right;\n",
       "    }\n",
       "</style>\n",
       "<table border=\"1\" class=\"dataframe\">\n",
       "  <thead>\n",
       "    <tr style=\"text-align: right;\">\n",
       "      <th></th>\n",
       "      <th>oid</th>\n",
       "      <th>category</th>\n",
       "      <th>text</th>\n",
       "    </tr>\n",
       "  </thead>\n",
       "  <tbody>\n",
       "    <tr>\n",
       "      <th>0</th>\n",
       "      <td>365271984</td>\n",
       "      <td>winter_sport</td>\n",
       "      <td>Волшебные фото Виктория Поплавская ЕвгенияМедв...</td>\n",
       "    </tr>\n",
       "    <tr>\n",
       "      <th>1</th>\n",
       "      <td>503385563</td>\n",
       "      <td>extreme</td>\n",
       "      <td>Возвращение в подземелье Треша 33 Эйфория тупо...</td>\n",
       "    </tr>\n",
       "    <tr>\n",
       "      <th>2</th>\n",
       "      <td>146016084</td>\n",
       "      <td>football</td>\n",
       "      <td>Лучшие чешские вратари – Доминик Доминатор Гаш...</td>\n",
       "    </tr>\n",
       "    <tr>\n",
       "      <th>3</th>\n",
       "      <td>933865449</td>\n",
       "      <td>boardgames</td>\n",
       "      <td>Rtokenoid Warhammer40k валрак решил нас подкор...</td>\n",
       "    </tr>\n",
       "    <tr>\n",
       "      <th>4</th>\n",
       "      <td>713550145</td>\n",
       "      <td>hockey</td>\n",
       "      <td>Шестеркин затаскивает Рейнджерс в финал Восточ...</td>\n",
       "    </tr>\n",
       "  </tbody>\n",
       "</table>\n",
       "</div>"
      ],
      "text/plain": [
       "         oid      category                                               text\n",
       "0  365271984  winter_sport  Волшебные фото Виктория Поплавская ЕвгенияМедв...\n",
       "1  503385563       extreme  Возвращение в подземелье Треша 33 Эйфория тупо...\n",
       "2  146016084      football  Лучшие чешские вратари – Доминик Доминатор Гаш...\n",
       "3  933865449    boardgames  Rtokenoid Warhammer40k валрак решил нас подкор...\n",
       "4  713550145        hockey  Шестеркин затаскивает Рейнджерс в финал Восточ..."
      ]
     },
     "execution_count": 4,
     "metadata": {},
     "output_type": "execute_result"
    }
   ],
   "source": [
    "dirt_data_train.head()"
   ]
  },
  {
   "cell_type": "code",
   "execution_count": 5,
   "id": "e691b6e1-8498-48fb-9c03-76bbc55265ac",
   "metadata": {},
   "outputs": [
    {
     "data": {
      "text/html": [
       "<div>\n",
       "<style scoped>\n",
       "    .dataframe tbody tr th:only-of-type {\n",
       "        vertical-align: middle;\n",
       "    }\n",
       "\n",
       "    .dataframe tbody tr th {\n",
       "        vertical-align: top;\n",
       "    }\n",
       "\n",
       "    .dataframe thead th {\n",
       "        text-align: right;\n",
       "    }\n",
       "</style>\n",
       "<table border=\"1\" class=\"dataframe\">\n",
       "  <thead>\n",
       "    <tr style=\"text-align: right;\">\n",
       "      <th></th>\n",
       "      <th>oid</th>\n",
       "      <th>category</th>\n",
       "      <th>text</th>\n",
       "    </tr>\n",
       "  </thead>\n",
       "  <tbody>\n",
       "    <tr>\n",
       "      <th>0</th>\n",
       "      <td>365271984</td>\n",
       "      <td>winter_sport</td>\n",
       "      <td>волшебный фото виктория поплавский евгениямедв...</td>\n",
       "    </tr>\n",
       "    <tr>\n",
       "      <th>1</th>\n",
       "      <td>503385563</td>\n",
       "      <td>extreme</td>\n",
       "      <td>возвращение подземелье треш эйфория тупость жа...</td>\n",
       "    </tr>\n",
       "    <tr>\n",
       "      <th>2</th>\n",
       "      <td>146016084</td>\n",
       "      <td>football</td>\n",
       "      <td>хороший чешский вратарь – доминик доминатор га...</td>\n",
       "    </tr>\n",
       "    <tr>\n",
       "      <th>3</th>\n",
       "      <td>933865449</td>\n",
       "      <td>boardgames</td>\n",
       "      <td>валрак решить подкормить сильно свежий слух им...</td>\n",
       "    </tr>\n",
       "    <tr>\n",
       "      <th>4</th>\n",
       "      <td>713550145</td>\n",
       "      <td>hockey</td>\n",
       "      <td>шестёркин затаскивать рейнджерс финал восточны...</td>\n",
       "    </tr>\n",
       "  </tbody>\n",
       "</table>\n",
       "</div>"
      ],
      "text/plain": [
       "         oid      category                                               text\n",
       "0  365271984  winter_sport  волшебный фото виктория поплавский евгениямедв...\n",
       "1  503385563       extreme  возвращение подземелье треш эйфория тупость жа...\n",
       "2  146016084      football  хороший чешский вратарь – доминик доминатор га...\n",
       "3  933865449    boardgames  валрак решить подкормить сильно свежий слух им...\n",
       "4  713550145        hockey  шестёркин затаскивать рейнджерс финал восточны..."
      ]
     },
     "execution_count": 5,
     "metadata": {},
     "output_type": "execute_result"
    }
   ],
   "source": [
    "data_train.head()"
   ]
  },
  {
   "cell_type": "code",
   "execution_count": 6,
   "id": "f1e193c1-e4a5-4620-9a52-2fae9be05750",
   "metadata": {},
   "outputs": [
    {
     "data": {
      "text/plain": [
       "autosport       3160\n",
       "extreme         3110\n",
       "martial_arts    3050\n",
       "motosport       3030\n",
       "boardgames      3020\n",
       "tennis          3000\n",
       "esport          2990\n",
       "athletics       2970\n",
       "hockey          2950\n",
       "volleyball      2950\n",
       "football        2860\n",
       "basketball      2850\n",
       "winter_sport    2800\n",
       "Name: category, dtype: int64"
      ]
     },
     "execution_count": 6,
     "metadata": {},
     "output_type": "execute_result"
    }
   ],
   "source": [
    "data_train['category'].value_counts()"
   ]
  },
  {
   "cell_type": "code",
   "execution_count": 7,
   "id": "93f07443-e73d-48ae-8711-542a435c923c",
   "metadata": {},
   "outputs": [
    {
     "data": {
      "image/png": "[encoded data removed]",
      "text/plain": [
       "<Figure size 1080x360 with 1 Axes>"
      ]
     },
     "metadata": {},
     "output_type": "display_data"
    }
   ],
   "source": [
    "sns.set(rc={'figure.figsize':(15, 5)})\n",
    "sns.set_style('darkgrid')\n",
    "\n",
    "plot = sns.histplot(x='category', \n",
    "                    data=data_train,\n",
    "                    palette='gnuplot2_r',\n",
    "                    shrink=.8);\n",
    "\n",
    "plot.set_xlabel(\"Category\", fontsize=13)\n",
    "plot.set_ylabel(\"Quantity\", fontsize=13)\n",
    "plot.set_title(\"Distribution of categories\", fontsize=15)\n",
    "plt.show();"
   ]
  },
  {
   "cell_type": "markdown",
   "id": "6194dba0-1cbf-464f-b523-90b81dceebd4",
   "metadata": {},
   "source": [
    "# Cleaning Text"
   ]
  },
  {
   "cell_type": "code",
   "execution_count": 8,
   "id": "d5ad756e-41ab-41c5-b544-e66da669c020",
   "metadata": {},
   "outputs": [
    {
     "name": "stderr",
     "output_type": "stream",
     "text": [
      "[nltk_data] Downloading package stopwords to\n",
      "[nltk_data]     C:\\Users\\Artemiy\\AppData\\Roaming\\nltk_data...\n",
      "[nltk_data]   Package stopwords is already up-to-date!\n"
     ]
    }
   ],
   "source": [
    "import nltk\n",
    "\n",
    "nltk.download('stopwords')\n",
    "\n",
    "import re\n",
    "\n",
    "from pymorphy2 import MorphAnalyzer\n",
    "from nltk.corpus import stopwords\n",
    "\n",
    "patterns = \"[A-Za-z0-9!#$%&'()*+,./:;<=>?@[\\]^_`{|}~—\\\"\\-]+\"\n",
    "stopwords_ru = stopwords.words(\"russian\")\n",
    "morph = MorphAnalyzer()\n",
    "\n",
    "def lemmatize(doc):\n",
    "    doc = re.sub(patterns, ' ', doc)\n",
    "    tokens = []\n",
    "    for token in doc.split():\n",
    "        if token and token not in stopwords_ru:\n",
    "            token = token.strip()\n",
    "            token = morph.normal_forms(token)[0]\n",
    "            \n",
    "            tokens.append(token)\n",
    "    if len(tokens) > 2:\n",
    "        return tokens\n",
    "    return None\n",
    "\n",
    "\n",
    "data_train['text'] = data_train['text'].str.lower()\n",
    "data_test['text'] = data_test['text'].str.lower()\n",
    "\n",
    "data = data_train['text'].apply(lemmatize)\n",
    "data_test_clear = data_test['text'].apply(lemmatize)\n",
    "\n",
    "data_train['text'] = data\n",
    "data_test['text'] = data_test_clear\n",
    "\n",
    "\n",
    "\n",
    "for i in range(data_train.shape[0]):\n",
    "    try:\n",
    "        data_train['text'][i] = \" \".join(data_train['text'][i])\n",
    "    except:\n",
    "        data_train['text'][i] = \"Error\"\n",
    "        \n",
    "for i in range(data_test.shape[0]):\n",
    "    try:\n",
    "        data_test['text'][i] = \" \".join(data_test['text'][i])\n",
    "    except:\n",
    "        data_test['text'][i] = \"Error\""
   ]
  },
  {
   "cell_type": "code",
   "execution_count": 9,
   "id": "f36bf507-4b04-4d9d-b8ad-8242a317ba4f",
   "metadata": {},
   "outputs": [],
   "source": [
    "def remove_duplicates(s):\n",
    "    list_result = []\n",
    "    list_words = s.split()\n",
    "    \n",
    "    for i in list_words:\n",
    "        if i not in list_result:\n",
    "            list_result.append(i)\n",
    "    \n",
    "    result = \"\"\n",
    "    for i in list_result:\n",
    "        result += i + \" \"\n",
    "        \n",
    "    return result\n",
    "\n",
    "for i in range(data_train.shape[0]):\n",
    "    data_train['text'][i] = remove_duplicates(data_train['text'][i])\n",
    "    \n",
    "for i in range(data_test.shape[0]):\n",
    "    data_test['text'][i] = remove_duplicates(data_test['text'][i])"
   ]
  },
  {
   "cell_type": "markdown",
   "id": "9680e7b2-1f78-48bc-bd3b-50fbf4f3620c",
   "metadata": {},
   "source": [
    "# Learning BERT"
   ]
  },
  {
   "cell_type": "code",
   "execution_count": 10,
   "id": "dcd7adcc-d113-4725-b157-34fcd4727eaf",
   "metadata": {},
   "outputs": [
    {
     "name": "stderr",
     "output_type": "stream",
     "text": [
      "Using TensorFlow backend.\n"
     ]
    }
   ],
   "source": [
    "from bert_dataset import CustomDataset\n",
    "from bert_classifier import BertClassifier"
   ]
  },
  {
   "cell_type": "code",
   "execution_count": 11,
   "id": "79176f13-3575-4334-a97d-8923b16dc12f",
   "metadata": {},
   "outputs": [
    {
     "data": {
      "application/vnd.jupyter.widget-view+json": {
       "model_id": "fe9dc652c03942c4a78880e58e75a957",
       "version_major": 2,
       "version_minor": 0
      },
      "text/plain": [
       "Downloading:   0%|          | 0.00/632 [00:00<?, ?B/s]"
      ]
     },
     "metadata": {},
     "output_type": "display_data"
    },
    {
     "data": {
      "application/vnd.jupyter.widget-view+json": {
       "model_id": "cf02c6bde6ae4cef999b94424a96dd01",
       "version_major": 2,
       "version_minor": 0
      },
      "text/plain": [
       "Downloading:   0%|          | 0.00/47.7M [00:00<?, ?B/s]"
      ]
     },
     "metadata": {},
     "output_type": "display_data"
    },
    {
     "name": "stderr",
     "output_type": "stream",
     "text": [
      "Some weights of the model checkpoint at cointegrated/rubert-tiny were not used when initializing BertForSequenceClassification: ['cls.seq_relationship.weight', 'cls.predictions.transform.dense.bias', 'cls.predictions.transform.LayerNorm.weight', 'cls.predictions.decoder.weight', 'cls.seq_relationship.bias', 'cls.predictions.transform.dense.weight', 'cls.predictions.transform.LayerNorm.bias', 'cls.predictions.decoder.bias', 'cls.predictions.bias']\n",
      "- This IS expected if you are initializing BertForSequenceClassification from the checkpoint of a model trained on another task or with another architecture (e.g. initializing a BertForSequenceClassification model from a BertForPreTraining model).\n",
      "- This IS NOT expected if you are initializing BertForSequenceClassification from the checkpoint of a model that you expect to be exactly identical (initializing a BertForSequenceClassification model from a BertForSequenceClassification model).\n",
      "Some weights of BertForSequenceClassification were not initialized from the model checkpoint at cointegrated/rubert-tiny and are newly initialized: ['classifier.weight', 'classifier.bias']\n",
      "You should probably TRAIN this model on a down-stream task to be able to use it for predictions and inference.\n"
     ]
    },
    {
     "data": {
      "application/vnd.jupyter.widget-view+json": {
       "model_id": "86532bd91a9f4f168553fface6530868",
       "version_major": 2,
       "version_minor": 0
      },
      "text/plain": [
       "Downloading:   0%|          | 0.00/241k [00:00<?, ?B/s]"
      ]
     },
     "metadata": {},
     "output_type": "display_data"
    },
    {
     "data": {
      "application/vnd.jupyter.widget-view+json": {
       "model_id": "202c2e92f678432188494c5c88ae98e3",
       "version_major": 2,
       "version_minor": 0
      },
      "text/plain": [
       "Downloading:   0%|          | 0.00/112 [00:00<?, ?B/s]"
      ]
     },
     "metadata": {},
     "output_type": "display_data"
    },
    {
     "data": {
      "application/vnd.jupyter.widget-view+json": {
       "model_id": "e32726da23154d95b13646a2744d56f9",
       "version_major": 2,
       "version_minor": 0
      },
      "text/plain": [
       "Downloading:   0%|          | 0.00/341 [00:00<?, ?B/s]"
      ]
     },
     "metadata": {},
     "output_type": "display_data"
    }
   ],
   "source": [
    "classifier = BertClassifier(\n",
    "    model_path='cointegrated/rubert-tiny',\n",
    "    tokenizer_path='cointegrated/rubert-tiny',\n",
    "    n_classes=13,\n",
    "    epochs=25,\n",
    "    model_save_path='/content/bert.pt'\n",
    ")"
   ]
  },
  {
   "cell_type": "code",
   "execution_count": 17,
   "id": "8aac5107-3cdd-40a6-9c46-303ead2f7aef",
   "metadata": {},
   "outputs": [],
   "source": [
    "bert_data_train = data_train\n",
    "\n",
    "bert_data_train['label'] = bert_data_train['category'].map({'autosport': 0, \n",
    "                                 'extreme': 1, \n",
    "                                 'martial_arts': 2, \n",
    "                                 'motosport': 3, \n",
    "                                 'boardgames': 4, \n",
    "                                 'tennis': 5,\n",
    "                                 'esport': 6,\n",
    "                                 'athletics': 7,\n",
    "                                 'hockey': 8,\n",
    "                                 'volleyball': 9,\n",
    "                                 'football': 10,\n",
    "                                 'basketball': 11,\n",
    "                                 'winter_sport': 12})"
   ]
  },
  {
   "cell_type": "code",
   "execution_count": 18,
   "id": "329b1bbb-26ac-46a9-a0a5-1c0261a1e8e8",
   "metadata": {},
   "outputs": [],
   "source": [
    "from sklearn.model_selection import train_test_split\n",
    "\n",
    "bert_train, bert_val = train_test_split(bert_data_train, test_size = 0.1)"
   ]
  },
  {
   "cell_type": "code",
   "execution_count": 19,
   "id": "6e3b4155-7118-4353-8f30-d02001c19b7e",
   "metadata": {},
   "outputs": [],
   "source": [
    "classifier.preparation(\n",
    "        X_train=list(bert_data_train['text']),\n",
    "        y_train=list(bert_data_train['label']),\n",
    "        X_valid=list(bert_val['text']),\n",
    "        y_valid=list(bert_val['label'])\n",
    ")"
   ]
  },
  {
   "cell_type": "code",
   "execution_count": null,
   "id": "c78c6393-e11d-4433-863e-b82a1c0ee7fd",
   "metadata": {},
   "outputs": [],
   "source": [
    "classifier.train()"
   ]
  },
  {
   "cell_type": "code",
   "execution_count": null,
   "id": "7f760d14-08f4-406c-886a-9ccab26e615a",
   "metadata": {},
   "outputs": [],
   "source": [
    "texts = list(dirt_data_test['text'])\n",
    "\n",
    "predictions = [classifier.predict(t) for t in texts]\n",
    "test_predictions = pd.DataFrame({'oid': dirt_data_test['oid'], 'category': predictions})\n",
    "\n",
    "test_predictions['category'] = test_predictions['category'].map({0: 'autosport', \n",
    "                                 1: 'extreme', \n",
    "                                 2: 'martial_arts', \n",
    "                                 3: 'motosport', \n",
    "                                 4: 'boardgames', \n",
    "                                 5: 'tennis',\n",
    "                                 6: 'esport',\n",
    "                                 7: 'athletics',\n",
    "                                 8: 'hockey',\n",
    "                                 9: 'volleyball',\n",
    "                                 10: 'football',\n",
    "                                 11: 'basketball',\n",
    "                                 12: 'winter_sport'})\n",
    "\n",
    "test_predictions.to_csv('test_bert.csv')"
   ]
  },
  {
   "cell_type": "markdown",
   "id": "eadc776a-66f4-41b4-90f6-c0f9973b71c2",
   "metadata": {},
   "source": [
    "# Learning FastText"
   ]
  },
  {
   "cell_type": "code",
   "execution_count": 12,
   "id": "377247ab-e9b3-4684-9493-85b700b61e31",
   "metadata": {},
   "outputs": [],
   "source": [
    "import fasttext\n",
    "\n",
    "train_shuffled = data_train.sample(frac=1)\n",
    "\n",
    "df_train = pd.DataFrame({'txt': train_shuffled['text'], 'target': train_shuffled['category']})\n",
    "df_train['target'] = train_shuffled['category'].apply(lambda x: '__label__' + str(x))\n",
    "df_train[['target', 'txt']].to_csv('train_data.txt', header=False, index=False, sep=\"\\t\")\n",
    "\n",
    "df_test = pd.DataFrame({'txt': data_test['text']})\n",
    "df_train[['txt']].to_csv('test_data.txt', header=False, index=False, sep=\"\\t\")"
   ]
  },
  {
   "cell_type": "code",
   "execution_count": 13,
   "id": "388356a1-0eaf-4795-9ad2-b02ad0148aa4",
   "metadata": {},
   "outputs": [],
   "source": [
    "hyper_params = {\"epoch\": 20}\n",
    "\n",
    "model = fasttext.train_supervised(input='train_data.txt', **hyper_params, autotuneValidationFile='test_data.txt')"
   ]
  },
  {
   "cell_type": "code",
   "execution_count": 14,
   "id": "ec7f35b7-c2d2-4ba3-ad81-cd33bb8c4176",
   "metadata": {},
   "outputs": [],
   "source": [
    "pred = []\n",
    "\n",
    "for i in range(data_test.shape[0]):\n",
    "    pred.append(model.predict(data_test['text'][i])[0][0][9:])\n",
    "    \n",
    "test_fasttext = pd.DataFrame({'oid': data_test['oid'], 'category': pred})\n",
    "test_fasttext.to_csv('test_fasttext.csv')"
   ]
  },
  {
   "cell_type": "code",
   "execution_count": 15,
   "id": "a269b6a8-3013-407d-b631-0c5e293c86bd",
   "metadata": {},
   "outputs": [
    {
     "data": {
      "text/plain": [
       "esport          2146\n",
       "winter_sport    2119\n",
       "hockey          2044\n",
       "athletics       2042\n",
       "volleyball      2041\n",
       "martial_arts    2030\n",
       "football        2018\n",
       "tennis          2011\n",
       "basketball      1986\n",
       "extreme         1986\n",
       "motosport       1984\n",
       "boardgames      1981\n",
       "autosport       1872\n",
       "Name: category, dtype: int64"
      ]
     },
     "execution_count": 15,
     "metadata": {},
     "output_type": "execute_result"
    }
   ],
   "source": [
    "test_fasttext['category'].value_counts()"
   ]
  },
  {
   "cell_type": "markdown",
   "id": "28caa9f6-5bce-4695-9fc2-e3c76b96027b",
   "metadata": {},
   "source": [
    "# Training CatBoost"
   ]
  },
  {
   "cell_type": "code",
   "execution_count": 16,
   "id": "f4170070-1750-475d-88b9-7d5423707def",
   "metadata": {},
   "outputs": [],
   "source": [
    "X_train, X_holdout, y_train, y_holdout = train_test_split(data_train.drop('category', axis=1), data_train['category'], test_size=0.20)"
   ]
  },
  {
   "cell_type": "code",
   "execution_count": 17,
   "id": "58553381-226e-447b-be2a-626755ac914c",
   "metadata": {},
   "outputs": [],
   "source": [
    "from catboost import CatBoostClassifier, Pool\n",
    "\n",
    "text_features = ['text']\n",
    "\n",
    "train_dataset = Pool(data=data_train.drop('category', axis=1),\n",
    "                     label=data_train['category'],\n",
    "                     text_features=text_features)\n",
    "\n",
    "eval_dataset = Pool(data=X_holdout,\n",
    "                     label=y_holdout,\n",
    "                     text_features=text_features)"
   ]
  },
  {
   "cell_type": "code",
   "execution_count": 18,
   "id": "585eb079-1794-4134-88b8-ac48cc3f725f",
   "metadata": {},
   "outputs": [
    {
     "data": {
      "application/vnd.jupyter.widget-view+json": {
       "model_id": "ad7e625e66c74156a5de6c1b4c6fc31a",
       "version_major": 2,
       "version_minor": 0
      },
      "text/plain": [
       "MetricVisualizer(layout=Layout(align_self='stretch', height='500px'))"
      ]
     },
     "metadata": {},
     "output_type": "display_data"
    },
    {
     "data": {
      "text/plain": [
       "<catboost.core.CatBoostClassifier at 0x23d98e68940>"
      ]
     },
     "execution_count": 18,
     "metadata": {},
     "output_type": "execute_result"
    }
   ],
   "source": [
    "model = CatBoostClassifier(\n",
    "    random_seed=63,\n",
    "    iterations=1000,\n",
    "    # task_type=\"GPU\",\n",
    "    learning_rate=0.02\n",
    ")\n",
    "\n",
    "model.fit(\n",
    "    train_dataset,\n",
    "    verbose=False,\n",
    "    eval_set=eval_dataset,\n",
    "    plot=True\n",
    ")"
   ]
  },
  {
   "cell_type": "code",
   "execution_count": 28,
   "id": "1348447b-55f5-488c-97bc-8f8377bcf272",
   "metadata": {},
   "outputs": [],
   "source": [
    "test_dataset = Pool(data_test,\n",
    "                    text_features=text_features)\n",
    "\n",
    "predictions = model.predict(test_dataset)"
   ]
  },
  {
   "cell_type": "code",
   "execution_count": 29,
   "id": "b35296e5-38b6-4ee0-9b56-a3d8ee0197ca",
   "metadata": {},
   "outputs": [],
   "source": [
    "predictions_proba = model.predict_proba(test_dataset)"
   ]
  },
  {
   "cell_type": "code",
   "execution_count": 30,
   "id": "7214cd71-5fa4-49cd-ba85-d4a5b8dee805",
   "metadata": {},
   "outputs": [
    {
     "data": {
      "text/plain": [
       "array(['esport'], dtype=object)"
      ]
     },
     "execution_count": 30,
     "metadata": {},
     "output_type": "execute_result"
    }
   ],
   "source": [
    "predictions[0]"
   ]
  },
  {
   "cell_type": "code",
   "execution_count": 31,
   "id": "e67b9049-fb9b-4683-ad00-a5ad1c353ce4",
   "metadata": {},
   "outputs": [
    {
     "data": {
      "text/plain": [
       "array([0.02187347, 0.08607782, 0.02295904, 0.00712051, 0.54203961,\n",
       "       0.09840622, 0.04689477, 0.04110184, 0.04664495, 0.01522382,\n",
       "       0.01384211, 0.044232  , 0.01358385])"
      ]
     },
     "execution_count": 31,
     "metadata": {},
     "output_type": "execute_result"
    }
   ],
   "source": [
    "predictions_proba[0]"
   ]
  },
  {
   "cell_type": "code",
   "execution_count": 20,
   "id": "a994020a-7090-4897-a4eb-59f6eeeddfb8",
   "metadata": {},
   "outputs": [],
   "source": [
    "pred_cb = []\n",
    "\n",
    "for i in range(0, len(predictions)):\n",
    "    pred_cb.append(predictions[i][0])"
   ]
  },
  {
   "cell_type": "code",
   "execution_count": 41,
   "id": "2672a627-ef9e-4d47-974b-05ebd0d5c6f7",
   "metadata": {},
   "outputs": [
    {
     "data": {
      "text/plain": [
       "array([0.02187347, 0.08607782, 0.02295904, 0.00712051, 0.54203961,\n",
       "       0.09840622, 0.04689477, 0.04110184, 0.04664495, 0.01522382,\n",
       "       0.01384211, 0.044232  , 0.01358385])"
      ]
     },
     "execution_count": 41,
     "metadata": {},
     "output_type": "execute_result"
    }
   ],
   "source": [
    "predictions_proba[0]"
   ]
  },
  {
   "cell_type": "code",
   "execution_count": 42,
   "id": "a18b582f-8bac-4fb7-88ab-aae82e55427b",
   "metadata": {},
   "outputs": [],
   "source": [
    "pred_cb_proba = []\n",
    "\n",
    "for i in range(0, len(predictions_proba)):\n",
    "    pred_cb_proba.append(max(predictions_proba[i]))"
   ]
  },
  {
   "cell_type": "code",
   "execution_count": 43,
   "id": "a6ec1b35-b45a-4fa6-9145-3f6eb3eed6a9",
   "metadata": {},
   "outputs": [],
   "source": [
    "test_catboost = pd.DataFrame({'oid': data_test['oid'], 'category': pred_cb, 'proba': pred_cb_proba})"
   ]
  },
  {
   "cell_type": "code",
   "execution_count": 22,
   "id": "6837e6cc-04e7-47a1-bf4a-4e61789cfbb7",
   "metadata": {},
   "outputs": [],
   "source": [
    "test_catboost.to_csv('test_catboost.csv')"
   ]
  },
  {
   "cell_type": "markdown",
   "id": "6ad15028-2963-4d34-bba7-cb678cd4b5ca",
   "metadata": {
    "tags": []
   },
   "source": [
    "# Creating Submission"
   ]
  },
  {
   "cell_type": "code",
   "execution_count": 45,
   "id": "997e2ac9-a76e-4f42-a629-9d4f16c48101",
   "metadata": {},
   "outputs": [],
   "source": [
    "test_bert = pd.read_csv('test_predictions_bert.csv')\n",
    "test_bert = test_bert.drop('Unnamed: 0', axis=1)"
   ]
  },
  {
   "cell_type": "code",
   "execution_count": 47,
   "id": "0ed91b72-95bf-4de6-bdfe-1bc1bc12bf11",
   "metadata": {},
   "outputs": [
    {
     "data": {
      "text/plain": [
       "((26260, 2), (26260, 2))"
      ]
     },
     "execution_count": 47,
     "metadata": {},
     "output_type": "execute_result"
    }
   ],
   "source": [
    "test_bert.shape, test_fasttext.shape"
   ]
  },
  {
   "cell_type": "code",
   "execution_count": 56,
   "id": "b65ed0be-50e4-40e1-a7d1-ed8c6dee2106",
   "metadata": {},
   "outputs": [],
   "source": [
    "pred = []\n",
    "oid = []\n",
    "\n",
    "for i in range(test_bert.shape[0]):\n",
    "    if test_bert['oid'][i] == test_fasttext['oid'][i] == test_catboost['oid'][i]:\n",
    "        if test_bert['category'][i] == test_fasttext['category'][i] == test_catboost['category'][i]:\n",
    "            if test_catboost['proba'][i] > 0.5:\n",
    "                pred.append(test_bert['category'][i])\n",
    "                oid.append(test_bert['oid'][i])"
   ]
  },
  {
   "cell_type": "code",
   "execution_count": 60,
   "id": "f5a766e1-0601-47a7-b0bd-3c8042dc981b",
   "metadata": {},
   "outputs": [
    {
     "data": {
      "text/plain": [
       "(19355, 19355)"
      ]
     },
     "execution_count": 60,
     "metadata": {},
     "output_type": "execute_result"
    }
   ],
   "source": [
    "len(pred), len(oid)"
   ]
  },
  {
   "cell_type": "code",
   "execution_count": 58,
   "id": "78dafe05-6271-40f0-8b26-9a13447f37a4",
   "metadata": {},
   "outputs": [],
   "source": [
    "test_predictions = pd.DataFrame({'oid': oid, 'category': pred})\n",
    "test_predictions.to_csv('test_predictions.csv')"
   ]
  },
  {
   "cell_type": "code",
   "execution_count": 59,
   "id": "038f5089-486c-494d-821f-b5efe0da79b0",
   "metadata": {},
   "outputs": [
    {
     "data": {
      "text/html": [
       "<div>\n",
       "<style scoped>\n",
       "    .dataframe tbody tr th:only-of-type {\n",
       "        vertical-align: middle;\n",
       "    }\n",
       "\n",
       "    .dataframe tbody tr th {\n",
       "        vertical-align: top;\n",
       "    }\n",
       "\n",
       "    .dataframe thead th {\n",
       "        text-align: right;\n",
       "    }\n",
       "</style>\n",
       "<table border=\"1\" class=\"dataframe\">\n",
       "  <thead>\n",
       "    <tr style=\"text-align: right;\">\n",
       "      <th></th>\n",
       "      <th>oid</th>\n",
       "      <th>category</th>\n",
       "    </tr>\n",
       "  </thead>\n",
       "  <tbody>\n",
       "    <tr>\n",
       "      <th>0</th>\n",
       "      <td>749208109</td>\n",
       "      <td>esport</td>\n",
       "    </tr>\n",
       "    <tr>\n",
       "      <th>1</th>\n",
       "      <td>161038103</td>\n",
       "      <td>tennis</td>\n",
       "    </tr>\n",
       "    <tr>\n",
       "      <th>2</th>\n",
       "      <td>663621910</td>\n",
       "      <td>esport</td>\n",
       "    </tr>\n",
       "    <tr>\n",
       "      <th>3</th>\n",
       "      <td>566255305</td>\n",
       "      <td>tennis</td>\n",
       "    </tr>\n",
       "    <tr>\n",
       "      <th>4</th>\n",
       "      <td>770457906</td>\n",
       "      <td>volleyball</td>\n",
       "    </tr>\n",
       "    <tr>\n",
       "      <th>...</th>\n",
       "      <td>...</td>\n",
       "      <td>...</td>\n",
       "    </tr>\n",
       "    <tr>\n",
       "      <th>19350</th>\n",
       "      <td>965739105</td>\n",
       "      <td>esport</td>\n",
       "    </tr>\n",
       "    <tr>\n",
       "      <th>19351</th>\n",
       "      <td>279369911</td>\n",
       "      <td>volleyball</td>\n",
       "    </tr>\n",
       "    <tr>\n",
       "      <th>19352</th>\n",
       "      <td>600699419</td>\n",
       "      <td>boardgames</td>\n",
       "    </tr>\n",
       "    <tr>\n",
       "      <th>19353</th>\n",
       "      <td>560223506</td>\n",
       "      <td>extreme</td>\n",
       "    </tr>\n",
       "    <tr>\n",
       "      <th>19354</th>\n",
       "      <td>724673712</td>\n",
       "      <td>athletics</td>\n",
       "    </tr>\n",
       "  </tbody>\n",
       "</table>\n",
       "<p>19355 rows × 2 columns</p>\n",
       "</div>"
      ],
      "text/plain": [
       "             oid    category\n",
       "0      749208109      esport\n",
       "1      161038103      tennis\n",
       "2      663621910      esport\n",
       "3      566255305      tennis\n",
       "4      770457906  volleyball\n",
       "...          ...         ...\n",
       "19350  965739105      esport\n",
       "19351  279369911  volleyball\n",
       "19352  600699419  boardgames\n",
       "19353  560223506     extreme\n",
       "19354  724673712   athletics\n",
       "\n",
       "[19355 rows x 2 columns]"
      ]
     },
     "execution_count": 59,
     "metadata": {},
     "output_type": "execute_result"
    }
   ],
   "source": [
    "test_predictions"
   ]
  },
  {
   "cell_type": "code",
   "execution_count": null,
   "id": "ef33dcfd-a230-4c9d-b218-b0f6dce07225",
   "metadata": {},
   "outputs": [],
   "source": []
  }
 ],
 "metadata": {
  "kernelspec": {
   "display_name": "Python 3 (ipykernel)",
   "language": "python",
   "name": "python3"
  },
  "language_info": {
   "codemirror_mode": {
    "name": "ipython",
    "version": 3
   },
   "file_extension": ".py",
   "mimetype": "text/x-python",
   "name": "python",
   "nbconvert_exporter": "python",
   "pygments_lexer": "ipython3",
   "version": "3.9.12"
  }
 },
 "nbformat": 4,
 "nbformat_minor": 5
}
